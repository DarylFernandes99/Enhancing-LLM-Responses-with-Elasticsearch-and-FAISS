{
  "nbformat": 4,
  "nbformat_minor": 0,
  "metadata": {
    "colab": {
      "provenance": [],
      "collapsed_sections": [
        "yZmI7l_GykcW",
        "eCBpBW9z5Bwl",
        "IVai3WFt5K_v",
        "xo-KpwNn5TBD"
      ]
    },
    "kernelspec": {
      "name": "python3",
      "display_name": "Python 3"
    },
    "language_info": {
      "name": "python"
    }
  },
  "cells": [
    {
      "cell_type": "markdown",
      "metadata": {
        "id": "yZmI7l_GykcW"
      },
      "source": [
        "## Download and setup the Elasticsearch instance\n"
      ]
    },
    {
      "cell_type": "code",
      "source": [
        "!pip install elasticsearch==7.13.4 sentence-transformers faiss-cpu\n",
        "!pip install -q -U google-generativeai"
      ],
      "metadata": {
        "id": "iFsOgzHE4agp",
        "colab": {
          "base_uri": "https://localhost:8080/"
        },
        "outputId": "38ba2995-7c0b-4c8c-9281-8f0c2abcd47c"
      },
      "execution_count": null,
      "outputs": [
        {
          "output_type": "stream",
          "name": "stdout",
          "text": [
            "Collecting elasticsearch==7.13.4\n",
            "  Downloading elasticsearch-7.13.4-py2.py3-none-any.whl.metadata (7.7 kB)\n",
            "Collecting sentence-transformers\n",
            "  Downloading sentence_transformers-3.1.0-py3-none-any.whl.metadata (23 kB)\n",
            "Collecting faiss-cpu\n",
            "  Downloading faiss_cpu-1.8.0.post1-cp310-cp310-manylinux_2_17_x86_64.manylinux2014_x86_64.whl.metadata (3.7 kB)\n",
            "Collecting urllib3<2,>=1.21.1 (from elasticsearch==7.13.4)\n",
            "  Downloading urllib3-1.26.20-py2.py3-none-any.whl.metadata (50 kB)\n",
            "\u001b[2K     \u001b[90m━━━━━━━━━━━━━━━━━━━━━━━━━━━━━━━━━━━━━━━━\u001b[0m \u001b[32m50.1/50.1 kB\u001b[0m \u001b[31m1.8 MB/s\u001b[0m eta \u001b[36m0:00:00\u001b[0m\n",
            "\u001b[?25hRequirement already satisfied: certifi in /usr/local/lib/python3.10/dist-packages (from elasticsearch==7.13.4) (2024.8.30)\n",
            "Requirement already satisfied: transformers<5.0.0,>=4.38.0 in /usr/local/lib/python3.10/dist-packages (from sentence-transformers) (4.44.2)\n",
            "Requirement already satisfied: tqdm in /usr/local/lib/python3.10/dist-packages (from sentence-transformers) (4.66.5)\n",
            "Requirement already satisfied: torch>=1.11.0 in /usr/local/lib/python3.10/dist-packages (from sentence-transformers) (2.4.0+cu121)\n",
            "Requirement already satisfied: numpy<2.0.0 in /usr/local/lib/python3.10/dist-packages (from sentence-transformers) (1.26.4)\n",
            "Requirement already satisfied: scikit-learn in /usr/local/lib/python3.10/dist-packages (from sentence-transformers) (1.3.2)\n",
            "Requirement already satisfied: scipy in /usr/local/lib/python3.10/dist-packages (from sentence-transformers) (1.13.1)\n",
            "Requirement already satisfied: huggingface-hub>=0.19.3 in /usr/local/lib/python3.10/dist-packages (from sentence-transformers) (0.24.7)\n",
            "Requirement already satisfied: Pillow in /usr/local/lib/python3.10/dist-packages (from sentence-transformers) (10.4.0)\n",
            "Requirement already satisfied: packaging in /usr/local/lib/python3.10/dist-packages (from faiss-cpu) (24.1)\n",
            "Requirement already satisfied: filelock in /usr/local/lib/python3.10/dist-packages (from huggingface-hub>=0.19.3->sentence-transformers) (3.16.0)\n",
            "Requirement already satisfied: fsspec>=2023.5.0 in /usr/local/lib/python3.10/dist-packages (from huggingface-hub>=0.19.3->sentence-transformers) (2024.6.1)\n",
            "Requirement already satisfied: pyyaml>=5.1 in /usr/local/lib/python3.10/dist-packages (from huggingface-hub>=0.19.3->sentence-transformers) (6.0.2)\n",
            "Requirement already satisfied: requests in /usr/local/lib/python3.10/dist-packages (from huggingface-hub>=0.19.3->sentence-transformers) (2.32.3)\n",
            "Requirement already satisfied: typing-extensions>=3.7.4.3 in /usr/local/lib/python3.10/dist-packages (from huggingface-hub>=0.19.3->sentence-transformers) (4.12.2)\n",
            "Requirement already satisfied: sympy in /usr/local/lib/python3.10/dist-packages (from torch>=1.11.0->sentence-transformers) (1.13.2)\n",
            "Requirement already satisfied: networkx in /usr/local/lib/python3.10/dist-packages (from torch>=1.11.0->sentence-transformers) (3.3)\n",
            "Requirement already satisfied: jinja2 in /usr/local/lib/python3.10/dist-packages (from torch>=1.11.0->sentence-transformers) (3.1.4)\n",
            "Requirement already satisfied: regex!=2019.12.17 in /usr/local/lib/python3.10/dist-packages (from transformers<5.0.0,>=4.38.0->sentence-transformers) (2024.9.11)\n",
            "Requirement already satisfied: safetensors>=0.4.1 in /usr/local/lib/python3.10/dist-packages (from transformers<5.0.0,>=4.38.0->sentence-transformers) (0.4.5)\n",
            "Requirement already satisfied: tokenizers<0.20,>=0.19 in /usr/local/lib/python3.10/dist-packages (from transformers<5.0.0,>=4.38.0->sentence-transformers) (0.19.1)\n",
            "Requirement already satisfied: joblib>=1.1.1 in /usr/local/lib/python3.10/dist-packages (from scikit-learn->sentence-transformers) (1.4.2)\n",
            "Requirement already satisfied: threadpoolctl>=2.0.0 in /usr/local/lib/python3.10/dist-packages (from scikit-learn->sentence-transformers) (3.5.0)\n",
            "Requirement already satisfied: MarkupSafe>=2.0 in /usr/local/lib/python3.10/dist-packages (from jinja2->torch>=1.11.0->sentence-transformers) (2.1.5)\n",
            "Requirement already satisfied: charset-normalizer<4,>=2 in /usr/local/lib/python3.10/dist-packages (from requests->huggingface-hub>=0.19.3->sentence-transformers) (3.3.2)\n",
            "Requirement already satisfied: idna<4,>=2.5 in /usr/local/lib/python3.10/dist-packages (from requests->huggingface-hub>=0.19.3->sentence-transformers) (3.10)\n",
            "Requirement already satisfied: mpmath<1.4,>=1.1.0 in /usr/local/lib/python3.10/dist-packages (from sympy->torch>=1.11.0->sentence-transformers) (1.3.0)\n",
            "Downloading elasticsearch-7.13.4-py2.py3-none-any.whl (356 kB)\n",
            "\u001b[2K   \u001b[90m━━━━━━━━━━━━━━━━━━━━━━━━━━━━━━━━━━━━━━━━\u001b[0m \u001b[32m356.3/356.3 kB\u001b[0m \u001b[31m9.3 MB/s\u001b[0m eta \u001b[36m0:00:00\u001b[0m\n",
            "\u001b[?25hDownloading sentence_transformers-3.1.0-py3-none-any.whl (249 kB)\n",
            "\u001b[2K   \u001b[90m━━━━━━━━━━━━━━━━━━━━━━━━━━━━━━━━━━━━━━━━\u001b[0m \u001b[32m249.1/249.1 kB\u001b[0m \u001b[31m14.6 MB/s\u001b[0m eta \u001b[36m0:00:00\u001b[0m\n",
            "\u001b[?25hDownloading faiss_cpu-1.8.0.post1-cp310-cp310-manylinux_2_17_x86_64.manylinux2014_x86_64.whl (27.0 MB)\n",
            "\u001b[2K   \u001b[90m━━━━━━━━━━━━━━━━━━━━━━━━━━━━━━━━━━━━━━━━\u001b[0m \u001b[32m27.0/27.0 MB\u001b[0m \u001b[31m25.6 MB/s\u001b[0m eta \u001b[36m0:00:00\u001b[0m\n",
            "\u001b[?25hDownloading urllib3-1.26.20-py2.py3-none-any.whl (144 kB)\n",
            "\u001b[2K   \u001b[90m━━━━━━━━━━━━━━━━━━━━━━━━━━━━━━━━━━━━━━━━\u001b[0m \u001b[32m144.2/144.2 kB\u001b[0m \u001b[31m12.2 MB/s\u001b[0m eta \u001b[36m0:00:00\u001b[0m\n",
            "\u001b[?25hInstalling collected packages: urllib3, faiss-cpu, elasticsearch, sentence-transformers\n",
            "  Attempting uninstall: urllib3\n",
            "    Found existing installation: urllib3 2.0.7\n",
            "    Uninstalling urllib3-2.0.7:\n",
            "      Successfully uninstalled urllib3-2.0.7\n",
            "Successfully installed elasticsearch-7.13.4 faiss-cpu-1.8.0.post1 sentence-transformers-3.1.0 urllib3-1.26.20\n"
          ]
        },
        {
          "output_type": "display_data",
          "data": {
            "application/vnd.colab-display-data+json": {
              "pip_warning": {
                "packages": [
                  "urllib3"
                ]
              },
              "id": "3cf8a925347b436391e5e3d305b236f9"
            }
          },
          "metadata": {}
        },
        {
          "output_type": "stream",
          "name": "stdout",
          "text": [
            "\u001b[?25l   \u001b[90m━━━━━━━━━━━━━━━━━━━━━━━━━━━━━━━━━━━━━━━━\u001b[0m \u001b[32m0.0/165.0 kB\u001b[0m \u001b[31m?\u001b[0m eta \u001b[36m-:--:--\u001b[0m\r\u001b[2K   \u001b[90m━━━━━━━━━━━━━━━━━━━━━━━━━━━━━━━━━━━━━━━━\u001b[0m \u001b[32m165.0/165.0 kB\u001b[0m \u001b[31m8.6 MB/s\u001b[0m eta \u001b[36m0:00:00\u001b[0m\n",
            "\u001b[?25h\u001b[?25l   \u001b[90m━━━━━━━━━━━━━━━━━━━━━━━━━━━━━━━━━━━━━━━━\u001b[0m \u001b[32m0.0/725.4 kB\u001b[0m \u001b[31m?\u001b[0m eta \u001b[36m-:--:--\u001b[0m\r\u001b[2K   \u001b[90m━━━━━━━━━━━━━━━━━━━━━━━━━━━━━━━━━━━━━━━━\u001b[0m \u001b[32m725.4/725.4 kB\u001b[0m \u001b[31m30.0 MB/s\u001b[0m eta \u001b[36m0:00:00\u001b[0m\n",
            "\u001b[?25h"
          ]
        }
      ]
    },
    {
      "cell_type": "code",
      "execution_count": null,
      "metadata": {
        "id": "YUj0878jPyz7",
        "outputId": "d58ec1aa-d3e4-4d39-8b33-019664a403fc",
        "colab": {
          "base_uri": "https://localhost:8080/"
        }
      },
      "outputs": [
        {
          "output_type": "stream",
          "name": "stdout",
          "text": [
            "elasticsearch-oss-7.9.2-linux-x86_64.tar.gz: OK\n"
          ]
        }
      ],
      "source": [
        "%%bash\n",
        "\n",
        "wget -q https://artifacts.elastic.co/downloads/elasticsearch/elasticsearch-oss-7.9.2-linux-x86_64.tar.gz\n",
        "wget -q https://artifacts.elastic.co/downloads/elasticsearch/elasticsearch-oss-7.9.2-linux-x86_64.tar.gz.sha512\n",
        "tar -xzf elasticsearch-oss-7.9.2-linux-x86_64.tar.gz\n",
        "sudo chown -R daemon:daemon elasticsearch-7.9.2/\n",
        "shasum -a 512 -c elasticsearch-oss-7.9.2-linux-x86_64.tar.gz.sha512"
      ]
    },
    {
      "cell_type": "markdown",
      "metadata": {
        "id": "vAzfu_WiEs4F"
      },
      "source": [
        "Run the instance as a daemon process"
      ]
    },
    {
      "cell_type": "code",
      "execution_count": null,
      "metadata": {
        "id": "n9ujlunrWgRx"
      },
      "outputs": [],
      "source": [
        "%%bash --bg\n",
        "\n",
        "sudo -H -u daemon elasticsearch-7.9.2/bin/elasticsearch"
      ]
    },
    {
      "cell_type": "code",
      "execution_count": null,
      "metadata": {
        "id": "XyUa9r6MgWtW"
      },
      "outputs": [],
      "source": [
        "# Sleep for few seconds to let the instance start.\n",
        "import time\n",
        "time.sleep(40)"
      ]
    },
    {
      "cell_type": "markdown",
      "metadata": {
        "id": "f6qxCdypE1DD"
      },
      "source": [
        "Once the instance has been started, grep for `elasticsearch` in the processes list to confirm the availability."
      ]
    },
    {
      "cell_type": "code",
      "execution_count": null,
      "metadata": {
        "id": "48LqMJ1BEHm5",
        "outputId": "bb66fd15-1ad8-4150-8154-a4af03f2354f",
        "colab": {
          "base_uri": "https://localhost:8080/"
        }
      },
      "outputs": [
        {
          "output_type": "stream",
          "name": "stdout",
          "text": [
            "root       65823   65821  0 00:05 ?        00:00:00 sudo -H -u daemon elasticsearch-7.9.2/bin/elasti\n",
            "daemon     65824   65823 53 00:05 ?        00:00:21 /content/elasticsearch-7.9.2/jdk/bin/java -Xshar\n",
            "root       66222   66220  0 00:06 ?        00:00:00 grep elasticsearch\n"
          ]
        }
      ],
      "source": [
        "%%bash\n",
        "\n",
        "ps -ef | grep elasticsearch"
      ]
    },
    {
      "cell_type": "markdown",
      "metadata": {
        "id": "wBuRpiyf_kNS"
      },
      "source": [
        "query the base endpoint to retrieve information about the cluster."
      ]
    },
    {
      "cell_type": "code",
      "execution_count": null,
      "metadata": {
        "id": "ILyohKWQ_XQS",
        "outputId": "88e548e8-5e4e-4dc7-cf60-68293b9a3bbc",
        "colab": {
          "base_uri": "https://localhost:8080/"
        }
      },
      "outputs": [
        {
          "output_type": "stream",
          "name": "stdout",
          "text": [
            "{\n",
            "  \"name\" : \"ab60910205dc\",\n",
            "  \"cluster_name\" : \"elasticsearch\",\n",
            "  \"cluster_uuid\" : \"cGF1c94kRN6FSGTG8iJXdg\",\n",
            "  \"version\" : {\n",
            "    \"number\" : \"7.9.2\",\n",
            "    \"build_flavor\" : \"oss\",\n",
            "    \"build_type\" : \"tar\",\n",
            "    \"build_hash\" : \"d34da0ea4a966c4e49417f2da2f244e3e97b4e6e\",\n",
            "    \"build_date\" : \"2020-09-23T00:45:33.626720Z\",\n",
            "    \"build_snapshot\" : false,\n",
            "    \"lucene_version\" : \"8.6.2\",\n",
            "    \"minimum_wire_compatibility_version\" : \"6.8.0\",\n",
            "    \"minimum_index_compatibility_version\" : \"6.0.0-beta1\"\n",
            "  },\n",
            "  \"tagline\" : \"You Know, for Search\"\n",
            "}\n"
          ]
        }
      ],
      "source": [
        "%%bash\n",
        "\n",
        "curl -sX GET \"localhost:9200/\""
      ]
    },
    {
      "cell_type": "markdown",
      "source": [
        "## ElasticSearch Indexing"
      ],
      "metadata": {
        "id": "eCBpBW9z5Bwl"
      }
    },
    {
      "cell_type": "code",
      "source": [
        "from elasticsearch import Elasticsearch\n",
        "from sentence_transformers import SentenceTransformer\n",
        "import numpy as np\n",
        "import faiss\n",
        "\n",
        "# Initialize Elasticsearch and FAISS\n",
        "es = Elasticsearch(hosts = [\"http://localhost:9200\"])\n",
        "embedding_model = SentenceTransformer('all-MiniLM-L6-v2')\n",
        "dimension = 384  # Size of the embedding vector\n",
        "faiss_index = faiss.IndexFlatL2(dimension)\n",
        "\n",
        "data =  [\n",
        "    {\n",
        "      \"title\": \"Oil Prices Hit Three-Year Low\",\n",
        "      \"content\": \"Global oil demand, led by a slowdown in China, has caused a sharp drop in oil prices, with Brent crude falling to $70 per barrel in early September 2024.\"\n",
        "    },\n",
        "    {\n",
        "      \"title\": \"Major X Flare Erupts from Sun\",\n",
        "      \"content\": \"A powerful X4.5 solar flare erupted from sunspot AR3825 on September 14, 2024, followed by a coronal mass ejection that could impact Earth's magnetic field.\"\n",
        "    },\n",
        "    {\n",
        "      \"title\": \"UN Warns of 3°C Global Warming Threat\",\n",
        "      \"content\": \"A new report from the UN weather agency warns that global temperatures could rise by 3°C unless urgent action is taken. 2024 has been the warmest year on record.\"\n",
        "    },\n",
        "    {\n",
        "      \"title\": \"Typhoon Yagi Devastates Southeast Asia\",\n",
        "      \"content\": \"Typhoon Yagi has severely impacted millions of children across Southeast Asia, causing floods and landslides in Vietnam, Myanmar, Laos, and Thailand.\"\n",
        "    },\n",
        "    {\n",
        "      \"title\": \"Refugee Detention Practices Criticized\",\n",
        "      \"content\": \"The UN refugee agency has called for an end to the arbitrary detention of asylum-seekers, citing numerous cases where individuals were unlawfully detained.\"\n",
        "    }\n",
        "]\n",
        "\n",
        "# Index documents into Elasticsearch and FAISS\n",
        "index_name = \"data_index\"\n",
        "for idx, doc in enumerate(data):\n",
        "    # Index into Elasticsearch (BM25)\n",
        "    es.index(index=index_name, id=idx, body=doc)\n",
        "\n",
        "    # Compute embedding and add to FAISS\n",
        "    embedding = embedding_model.encode([doc['title'], doc['content']])[0]\n",
        "    faiss_index.add(np.array([embedding]))"
      ],
      "metadata": {
        "colab": {
          "base_uri": "https://localhost:8080/"
        },
        "id": "q1UG70-J5Ajd",
        "outputId": "837312b1-c0d6-4938-b535-4fbafa2589da"
      },
      "execution_count": null,
      "outputs": [
        {
          "output_type": "stream",
          "name": "stderr",
          "text": [
            "/usr/local/lib/python3.10/dist-packages/transformers/tokenization_utils_base.py:1601: FutureWarning: `clean_up_tokenization_spaces` was not set. It will be set to `True` by default. This behavior will be depracted in transformers v4.45, and will be then set to `False` by default. For more details check this issue: https://github.com/huggingface/transformers/issues/31884\n",
            "  warnings.warn(\n"
          ]
        }
      ]
    },
    {
      "cell_type": "markdown",
      "source": [
        "## Query and hybrid retrieval"
      ],
      "metadata": {
        "id": "IVai3WFt5K_v"
      }
    },
    {
      "cell_type": "code",
      "source": [
        "def search_elasticsearch(query, top_k=3):\n",
        "    # BM25 query search in Elasticsearch\n",
        "    search_body = {\n",
        "        \"query\": {\n",
        "            \"multi_match\": {\n",
        "                \"query\": query,\n",
        "                \"fields\": [\"title\", \"content\"]\n",
        "            }\n",
        "        }\n",
        "    }\n",
        "    response = es.search(index=index_name, body=search_body, size=top_k)\n",
        "    return [hit['_source'] for hit in response['hits']['hits']]\n",
        "\n",
        "def search_faiss(query, top_k=2):\n",
        "    # Semantic search in FAISS\n",
        "    query_embedding = embedding_model.encode([query])\n",
        "    _, top_k_indices = faiss_index.search(query_embedding, top_k)\n",
        "\n",
        "    # Retrieve top-k documents from knowledge base\n",
        "    retrieved_docs = []\n",
        "    for idx in top_k_indices[0]:\n",
        "        doc = es.get(index=index_name, id=idx)\n",
        "        retrieved_docs.append(doc['_source'])\n",
        "\n",
        "    return retrieved_docs\n",
        "\n",
        "def hybrid_search(query, top_k_bm25=2, top_k_semantic=2):\n",
        "    # Perform BM25 (keyword) and FAISS (semantic) search\n",
        "    bm25_docs = search_elasticsearch(query, top_k=top_k_bm25)\n",
        "    faiss_docs = search_faiss(query, top_k=top_k_semantic)\n",
        "\n",
        "    # Combine and deduplicate results\n",
        "    unique_docs = {doc['content']: doc for doc in bm25_docs + faiss_docs}.values()\n",
        "    return list(unique_docs)\n",
        "\n",
        "# Example Query\n",
        "# query = \"Was there any changes in global oil prices this year?\"\n",
        "query = input(\"Enter your query: \")\n",
        "retrieved_docs = hybrid_search(query)\n",
        "print(retrieved_docs)"
      ],
      "metadata": {
        "colab": {
          "base_uri": "https://localhost:8080/"
        },
        "id": "k0oas7ud5RYD",
        "outputId": "4aba68d6-fdb5-4c99-bafe-9bacd95c763f"
      },
      "execution_count": null,
      "outputs": [
        {
          "output_type": "stream",
          "name": "stdout",
          "text": [
            "Enter your query: Was there any changes in global oil prices this year?\n",
            "[{'title': 'Oil Prices Hit Three-Year Low', 'content': 'Global oil demand, led by a slowdown in China, has caused a sharp drop in oil prices, with Brent crude falling to $70 per barrel in early September 2024.'}, {'title': 'UN Warns of 3°C Global Warming Threat', 'content': 'A new report from the UN weather agency warns that global temperatures could rise by 3°C unless urgent action is taken. 2024 has been the warmest year on record.'}]\n"
          ]
        }
      ]
    },
    {
      "cell_type": "markdown",
      "source": [
        "## Enriching the prompt"
      ],
      "metadata": {
        "id": "xo-KpwNn5TBD"
      }
    },
    {
      "cell_type": "code",
      "source": [
        "def enrich_prompt(query, retrieved_docs):\n",
        "    enriched_prompt = f\"User Query: {query}\\n\\n\"\n",
        "    enriched_prompt += \"Related Information:\\n\"\n",
        "    for i, doc in enumerate(retrieved_docs):\n",
        "        enriched_prompt += f\"{i+1}. {doc['title']}: {doc['content']}\\n\"\n",
        "    return enriched_prompt\n",
        "\n",
        "# Enrich the prompt with the retrieved documents\n",
        "enriched_prompt = enrich_prompt(query, retrieved_docs)\n",
        "print(enriched_prompt)"
      ],
      "metadata": {
        "colab": {
          "base_uri": "https://localhost:8080/"
        },
        "id": "Op3_2VDI5VyW",
        "outputId": "f80634d8-e073-469c-f296-ed455cae81bf"
      },
      "execution_count": null,
      "outputs": [
        {
          "output_type": "stream",
          "name": "stdout",
          "text": [
            "User Query: Was there any changes in global oil prices this year?\n",
            "\n",
            "Related Information:\n",
            "1. Oil Prices Hit Three-Year Low: Global oil demand, led by a slowdown in China, has caused a sharp drop in oil prices, with Brent crude falling to $70 per barrel in early September 2024.\n",
            "2. UN Warns of 3°C Global Warming Threat: A new report from the UN weather agency warns that global temperatures could rise by 3°C unless urgent action is taken. 2024 has been the warmest year on record.\n",
            "\n"
          ]
        }
      ]
    },
    {
      "cell_type": "markdown",
      "source": [
        "## Google Gemini API LLM"
      ],
      "metadata": {
        "id": "uaY3e6J85Xku"
      }
    },
    {
      "cell_type": "code",
      "source": [
        "import google.generativeai as genai\n",
        "\n",
        "# Google Gemini API credentials\n",
        "API_KEY = '<Your_API_key>'\n",
        "genai.configure(api_key=API_KEY)\n",
        "\n",
        "def generate_response(prompt):\n",
        "    model = genai.GenerativeModel(\"gemini-1.5-flash\")\n",
        "    response = model.generate_content(prompt)\n",
        "    return response.text\n",
        "\n",
        "# Get response from the LLM using enriched prompt\n",
        "print(\" Without context \".center(int(shutil.get_terminal_size().columns * 0.75), '*'))\n",
        "print(generate_response(query))\n",
        "\n",
        "final_response = generate_response(enriched_prompt)\n",
        "print(\" With context \".center(int(shutil.get_terminal_size().columns * 0.75), '*'))\n",
        "print(final_response)"
      ],
      "metadata": {
        "colab": {
          "base_uri": "https://localhost:8080/",
          "height": 454
        },
        "id": "rDVQOM2B5cz9",
        "outputId": "4220c508-9624-421f-ac33-7197e4da2181"
      },
      "execution_count": null,
      "outputs": [
        {
          "output_type": "stream",
          "name": "stdout",
          "text": [
            "***************************** Without context *****************************\n",
            "I do not have access to real-time information, including constantly changing data like global oil prices. \n",
            "\n",
            "To get the most up-to-date information on global oil prices, I recommend checking reputable financial news sources like:\n",
            "\n",
            "* **Bloomberg:** [https://www.bloomberg.com/](https://www.bloomberg.com/)\n",
            "* **Reuters:** [https://www.reuters.com/](https://www.reuters.com/)\n",
            "* **Financial Times:** [https://www.ft.com/](https://www.ft.com/)\n",
            "* **The Wall Street Journal:** [https://www.wsj.com/](https://www.wsj.com/)\n",
            "\n",
            "You can also use websites like:\n",
            "\n",
            "* **Oilprice.com:** [https://oilprice.com/](https://oilprice.com/)\n",
            "* **Investing.com:** [https://www.investing.com/](https://www.investing.com/)\n",
            "\n",
            "These sources provide current prices, charts, and analysis of the oil market. \n",
            "\n",
            "******************************* With context ******************************\n",
            "Yes, there have been significant changes in global oil prices this year. \n",
            "\n",
            "The provided information states that oil prices have hit a three-year low, with Brent crude falling to $70 per barrel in early September 2024. This drop is attributed to a slowdown in global oil demand, particularly due to economic challenges in China. \n",
            "\n",
            "Therefore, the answer is **yes**, there have been changes in global oil prices this year, with prices dropping to a three-year low. \n",
            "\n"
          ]
        }
      ]
    }
  ]
}